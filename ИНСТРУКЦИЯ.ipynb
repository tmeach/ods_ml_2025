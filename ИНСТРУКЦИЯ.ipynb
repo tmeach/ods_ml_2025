{
 "cells": [
  {
   "cell_type": "markdown",
   "id": "67c74e41",
   "metadata": {},
   "source": [
    "# **Инструкция по настройке виртуального окружения**"
   ]
  },
  {
   "cell_type": "markdown",
   "id": "090d2ad7",
   "metadata": {},
   "source": [
    "Использование разных версий библиотек может привести к тому, что при исполнении одного и того же кода результаты будут отличаться. \n",
    "\n",
    "Перед началом работы с заданиями курса необходимо правильно настроить виртуальное окружение Python, что обеспечит:\n",
    "\n",
    "* Воспроизводимость результатов\n",
    "\n",
    "* Совместимость версий библиотек\n",
    "\n",
    "* Изолированность виртуальной среды от других проектов\n",
    "\n",
    "Инструкция призвана помочь в настройке виртуального окружения Python для работы в:\n",
    "\n",
    "* Облачные среды: Google Colab/Kaggle\n",
    "\n",
    "* Локальные среды: venv/Conda"
   ]
  },
  {
   "cell_type": "markdown",
   "id": "7a5083c3",
   "metadata": {},
   "source": [
    "## **Проверка настройки виртуального окружения**"
   ]
  },
  {
   "cell_type": "markdown",
   "id": "d9574f8e",
   "metadata": {},
   "source": [
    "Для проверки настройки виртуального окружения перед тем, как приступить к выполнению заданий курса, **в каждом ноутбуке с домашним заданием** выполняйте код в ячейке ниже **после каждого нового запуска ноутбука**."
   ]
  },
  {
   "cell_type": "code",
   "execution_count": null,
   "id": "01dfd4bf",
   "metadata": {},
   "outputs": [],
   "source": [
    "# Код для проверки настройки виртуального окружения\n",
    "\n",
    "import sys\n",
    "from importlib.metadata import version\n",
    "\n",
    "required = {\n",
    "    'python': '3.11.x',\n",
    "    'numpy': '1.26.4',\n",
    "    'pandas': '2.1.4',\n",
    "    'scikit-learn': '1.7.0',\n",
    "    'statsmodels': '0.14.4',\n",
    "    'matplotlib': '3.8.0',\n",
    "    'seaborn': '0.13.2',\n",
    "    'nltk': '3.9.1',\n",
    "    'missingno': '0.5.2',\n",
    "    'mlxtend': '0.23.4',\n",
    "    'graphviz': '0.21',\n",
    "    'catboost': '1.2.8',\n",
    "    'lightgbm': '4.6.0',\n",
    "    'xgboost': '3.0.2',\n",
    "    'optuna': '4.4.0',\n",
    "    'eli5': '0.16.0',\n",
    "    'shap': '0.48.0'\n",
    "}\n",
    "\n",
    "print(f'{\"Компонент\":<15} | {\"Требуется\":<12} | {\"Установлено\":<12} | {\"Соответствие\"}')\n",
    "print('-' * 62)\n",
    "\n",
    "environment_ok = True\n",
    "for lib, req_ver in required.items():\n",
    "    try:\n",
    "        if lib == 'python':\n",
    "            inst_ver = sys.version.split()[0]\n",
    "            status = '✓' if sys.version_info.major == 3 and sys.version_info.minor == 11 else f'x (требуется {req_ver})'\n",
    "        else:\n",
    "            inst_ver = version(lib)\n",
    "            if inst_ver == req_ver:\n",
    "                status = '✓'\n",
    "            else:\n",
    "                environment_ok = False\n",
    "                status = f'x (требуется {req_ver})'\n",
    "    except:\n",
    "        environment_ok = False\n",
    "        inst_ver = '-'\n",
    "        status = 'x (не установлена)'\n",
    "    print(f'{lib:<15} | {req_ver:<12} | {inst_ver:<12} | {status:<12}')\n",
    "\n",
    "print('\\nРезультат проверки: ', \n",
    "      '✓\\nВсе версии соответствуют требованиям' \n",
    "      if environment_ok else \n",
    "      'x\\nВНИМАНИЕ: Версии некоторых компонентов не соответствуют требованиям!\\n'\n",
    "      'Для решения проблемы обратитесь к инструкции по настройке виртуального окружения')"
   ]
  },
  {
   "cell_type": "markdown",
   "id": "6f8a8b41",
   "metadata": {},
   "source": [
    "## **Настройка для облачных сред: [Google Colab](https://colab.research.google.com/?hl=ru)/[Kaggle](https://www.kaggle.com/docs/notebooks)**"
   ]
  },
  {
   "cell_type": "markdown",
   "id": "89af4575",
   "metadata": {},
   "source": [
    "Google Colab и Kaggle не поддерживают прямое использование локальных виртуальных окружений Python. \n",
    "\n",
    "В этом случае предлагается установить нужные версии библиотек напрямую в среду исполнения.\n",
    "\n",
    "**ВНИМАНИЕ.** При новом запуске ноутбука с заданиями требуется повторная настройка."
   ]
  },
  {
   "cell_type": "code",
   "execution_count": null,
   "id": "726abf4b",
   "metadata": {},
   "outputs": [],
   "source": [
    "%pip install numpy==1.26.4 pandas==2.1.4 scikit-learn==1.7.0 statsmodels==0.14.4 matplotlib==3.8.0 seaborn==0.13.2  nltk==3.9.1 missingno==0.5.2 mlxtend==0.23.4 graphviz==0.21 catboost==1.2.8 lightgbm==4.6.0 xgboost==3.0.2 optuna==4.4.0 eli5==0.16.0 shap==0.48.0"
   ]
  },
  {
   "cell_type": "markdown",
   "id": "ef738e19",
   "metadata": {},
   "source": [
    "## **Настройка локальной среды: [venv](https://docs.python.org/3/library/venv.html)**"
   ]
  },
  {
   "cell_type": "markdown",
   "id": "2eda4831",
   "metadata": {},
   "source": [
    "**Версия Python: 3.11.x**\n",
    "\n",
    "На других версиях Python данный способ может не работать."
   ]
  },
  {
   "cell_type": "code",
   "execution_count": null,
   "id": "ee19096d",
   "metadata": {
    "vscode": {
     "languageId": "powershell"
    }
   },
   "outputs": [],
   "source": [
    "python --version  # должно быть 3.11"
   ]
  },
  {
   "cell_type": "markdown",
   "id": "987f8cd6",
   "metadata": {},
   "source": [
    "### **Шаг 1. Создание окружения**"
   ]
  },
  {
   "cell_type": "markdown",
   "id": "c66ec41e",
   "metadata": {},
   "source": [
    "Откройте терминал (`cmd` в Windows или `Terminal` в macOS/Linux) и перейдите в папку с файлами для курса."
   ]
  },
  {
   "cell_type": "code",
   "execution_count": null,
   "id": "83966a0f",
   "metadata": {
    "vscode": {
     "languageId": "shellscript"
    }
   },
   "outputs": [],
   "source": [
    "python -m venv ml-course  # или другое имя окружения"
   ]
  },
  {
   "cell_type": "markdown",
   "id": "05a99be4",
   "metadata": {},
   "source": [
    "### **Шаг 2. Активация окружения**"
   ]
  },
  {
   "cell_type": "markdown",
   "id": "8bd62dbe",
   "metadata": {},
   "source": [
    "- **Windows (PowerShell/CMD):**"
   ]
  },
  {
   "cell_type": "code",
   "execution_count": null,
   "id": "64ce1f9e",
   "metadata": {
    "vscode": {
     "languageId": "shellscript"
    }
   },
   "outputs": [],
   "source": [
    ".\\ml-course\\Scripts\\activate # или другое имя окружения"
   ]
  },
  {
   "cell_type": "markdown",
   "id": "956bddb5",
   "metadata": {},
   "source": [
    "- **macOS/Linux:**"
   ]
  },
  {
   "cell_type": "code",
   "execution_count": null,
   "id": "854a3b15",
   "metadata": {
    "vscode": {
     "languageId": "shellscript"
    }
   },
   "outputs": [],
   "source": [
    "source ml-course/bin/activate # или другое имя окружения"
   ]
  },
  {
   "cell_type": "markdown",
   "id": "4fdab594",
   "metadata": {},
   "source": [
    "### **Шаг 3. Установка зависимостей с помощью `requirements.txt`**"
   ]
  },
  {
   "cell_type": "code",
   "execution_count": null,
   "id": "1b0460df",
   "metadata": {
    "vscode": {
     "languageId": "shellscript"
    }
   },
   "outputs": [],
   "source": [
    "# Загрузите файл requirements.txt в папку с файлами для курса\n",
    "# Затем выполните:\n",
    "pip install -r requirements.txt"
   ]
  },
  {
   "cell_type": "markdown",
   "id": "f73acbd4",
   "metadata": {},
   "source": [
    "### **Шаг 4. Настройка Jupyter**"
   ]
  },
  {
   "cell_type": "code",
   "execution_count": null,
   "id": "d54a5d31",
   "metadata": {
    "vscode": {
     "languageId": "shellscript"
    }
   },
   "outputs": [],
   "source": [
    "pip install ipykernel\n",
    "python -m ipykernel install --user --name=ml-course # или другое имя окружения"
   ]
  },
  {
   "cell_type": "markdown",
   "id": "1f2d2d05",
   "metadata": {},
   "source": [
    "После настройки выберите созданное окружение через интерфейс в IDE (например, `Select Kernel` в VSCode, `Kernel` в Jupyter Notebook)."
   ]
  },
  {
   "cell_type": "markdown",
   "id": "617f90ef",
   "metadata": {},
   "source": [
    "## **Настройка локальной среды: [Conda](https://docs.conda.io/projects/conda/en/latest/user-guide/index.html)**"
   ]
  },
  {
   "cell_type": "markdown",
   "id": "eacd7956",
   "metadata": {},
   "source": [
    "**Перед началом убедитесь, что [Anaconda](https://www.anaconda.com/docs/getting-started/anaconda/install) или [Miniconda](https://www.anaconda.com/docs/getting-started/miniconda/install) установлены в вашей системе.**"
   ]
  },
  {
   "cell_type": "markdown",
   "id": "ad583545",
   "metadata": {},
   "source": [
    "### **Шаг 1. Создание окружения**"
   ]
  },
  {
   "cell_type": "markdown",
   "id": "1ba944cd",
   "metadata": {},
   "source": [
    "Откройте терминал (`cmd` в Windows или `Terminal` в macOS/Linux) и перейдите в папку с файлами для курса."
   ]
  },
  {
   "cell_type": "code",
   "execution_count": null,
   "id": "6f7daae3",
   "metadata": {
    "vscode": {
     "languageId": "shellscript"
    }
   },
   "outputs": [],
   "source": [
    "# Загрузите файл environment.yml в папку с файлами для курса\n",
    "# Затем выполните:\n",
    "conda env create -f environment.yml"
   ]
  },
  {
   "cell_type": "markdown",
   "id": "8263e050",
   "metadata": {},
   "source": [
    "### **Шаг 2. Активация окружения**"
   ]
  },
  {
   "cell_type": "code",
   "execution_count": null,
   "id": "ea414e7c",
   "metadata": {
    "vscode": {
     "languageId": "shellscript"
    }
   },
   "outputs": [],
   "source": [
    "conda activate ml-course"
   ]
  },
  {
   "cell_type": "markdown",
   "id": "1d91a7fd",
   "metadata": {},
   "source": [
    "### **Шаг 3. Настройка Jupyter**"
   ]
  },
  {
   "cell_type": "code",
   "execution_count": null,
   "id": "54a7db22",
   "metadata": {
    "vscode": {
     "languageId": "shellscript"
    }
   },
   "outputs": [],
   "source": [
    "python -m ipykernel install --user --name=ml-course"
   ]
  },
  {
   "cell_type": "markdown",
   "id": "859ef3a6",
   "metadata": {},
   "source": [
    "После настройки выберите созданное окружение через интерфейс в IDE (например, `Select Kernel` в VSCode, `Kernel` в Jupyter Notebook)."
   ]
  }
 ],
 "metadata": {
  "kernelspec": {
   "display_name": "ml-course",
   "language": "python",
   "name": "ml-course"
  },
  "language_info": {
   "codemirror_mode": {
    "name": "ipython",
    "version": 3
   },
   "file_extension": ".py",
   "mimetype": "text/x-python",
   "name": "python",
   "nbconvert_exporter": "python",
   "pygments_lexer": "ipython3",
   "version": "3.11.11"
  }
 },
 "nbformat": 4,
 "nbformat_minor": 5
}
