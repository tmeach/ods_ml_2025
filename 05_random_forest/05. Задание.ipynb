{
 "cells": [
  {
   "cell_type": "markdown",
   "id": "e2b42885",
   "metadata": {},
   "source": [
    "# **Случайный лес**"
   ]
  },
  {
   "cell_type": "markdown",
   "id": "91f582fe",
   "metadata": {},
   "source": [
    "## **Подготовка для работы в Google Colab или Kaggle**"
   ]
  },
  {
   "cell_type": "markdown",
   "id": "63f92981",
   "metadata": {},
   "source": [
    "#### Код для подключения Google Drive в Colab"
   ]
  },
  {
   "cell_type": "code",
   "execution_count": null,
   "id": "bf5691e8",
   "metadata": {},
   "outputs": [],
   "source": [
    "from google.colab import drive\n",
    "drive.mount('/content/drive')"
   ]
  },
  {
   "cell_type": "markdown",
   "id": "c3a97e21",
   "metadata": {},
   "source": [
    "#### Код для получения пути к файлам в Kaggle"
   ]
  },
  {
   "cell_type": "code",
   "execution_count": null,
   "id": "d7e8dedc",
   "metadata": {},
   "outputs": [],
   "source": [
    "import os\n",
    "for dirname, _, filenames in os.walk('/kaggle/input'):\n",
    "    for filename in filenames:\n",
    "        print(os.path.join(dirname, filename))"
   ]
  },
  {
   "cell_type": "markdown",
   "id": "f457650f",
   "metadata": {},
   "source": [
    "#### Код для установки библиотек"
   ]
  },
  {
   "cell_type": "code",
   "execution_count": null,
   "id": "1b91e128",
   "metadata": {},
   "outputs": [],
   "source": [
    "%pip install numpy==1.26.4 pandas==2.1.4 scikit-learn==1.7.0 matplotlib==3.8.0 seaborn==0.13.2 missingno==0.5.2"
   ]
  },
  {
   "cell_type": "markdown",
   "id": "028236cf",
   "metadata": {},
   "source": [
    "## **Важная информация**"
   ]
  },
  {
   "cell_type": "markdown",
   "id": "90607413",
   "metadata": {},
   "source": [
    "**Для правильного воспроизведения результатов** решения задач:\n",
    "\n",
    "* Рекомендуется придерживаться имеющего в заданиях кода в исходной последовательности. Для этого при решении задач **восстановите недостающие фрагменты кода, которые отмечены символом** `...` (Ellipsis).\n",
    "\n",
    "* Если класс, функция или метод предусматривает параметр random_state, всегда указывайте **random_state=RANDOM_STATE**.\n",
    "\n",
    "* Для всех параметров (кроме random_state) класса, функции или метода **используйте значения по умолчанию, если иное не указано в задании**.\n",
    "\n",
    "**Если скорость обучения слишком низкая**, рекомендуется следующее:\n",
    "\n",
    "* В модели или/и GridSearchCV поменяйте значение параметра n_jobs, который отвечает за параллелизм вычислений.\n",
    "\n",
    "* Воспользуйтесь вычислительными ресурсами Google Colab или Kaggle.\n",
    "\n",
    "***Использовать GPU не рекомендуется, поскольку результаты обучения некоторых моделей могут отличаться на CPU и GPU.***\n",
    "\n",
    "После выполнения каждого задания **ответьте на вопросы в тесте.**\n",
    "\n",
    "**ВНИМАНИЕ:** **После каждого нового запуска ноутбука** перед тем, как приступить к выполнению заданий, проверьте настройку виртуального окружения, выполнив код в ячейке ниже."
   ]
  },
  {
   "cell_type": "code",
   "execution_count": null,
   "id": "579bd232",
   "metadata": {},
   "outputs": [],
   "source": [
    "# Код для проверки настройки виртуального окружения\n",
    "\n",
    "import sys\n",
    "from importlib.metadata import version\n",
    "\n",
    "required = {\n",
    "    'python': '3.11.x',\n",
    "    'numpy': '1.26.4',\n",
    "    'pandas': '2.1.4',\n",
    "    'scikit-learn': '1.7.0',\n",
    "    'matplotlib': '3.8.0',\n",
    "    'seaborn': '0.13.2',\n",
    "    'missingno': '0.5.2'\n",
    "}\n",
    "\n",
    "print(f'{\"Компонент\":<15} | {\"Требуется\":<12} | {\"Установлено\":<12} | {\"Соответствие\"}')\n",
    "print('-' * 62)\n",
    "\n",
    "environment_ok = True\n",
    "for lib, req_ver in required.items():\n",
    "    try:\n",
    "        if lib == 'python':\n",
    "            inst_ver = sys.version.split()[0]\n",
    "            status = '✓' if sys.version_info.major == 3 and sys.version_info.minor == 11 else f'x (требуется {req_ver})'\n",
    "        else:\n",
    "            inst_ver = version(lib)\n",
    "            if inst_ver == req_ver:\n",
    "                status = '✓'\n",
    "            else:\n",
    "                environment_ok = False\n",
    "                status = f'x (требуется {req_ver})'\n",
    "    except:\n",
    "        environment_ok = False\n",
    "        inst_ver = '-'\n",
    "        status = 'x (не установлена)'\n",
    "    print(f'{lib:<15} | {req_ver:<12} | {inst_ver:<12} | {status}')\n",
    "\n",
    "print('\\nРезультат проверки: ', \n",
    "      '✓\\nВсе версии соответствуют требованиям' \n",
    "      if environment_ok else \n",
    "      'x\\nВНИМАНИЕ: Версии некоторых компонентов не соответствуют требованиям!\\n'\n",
    "      'Для решения проблемы обратитесь к инструкции по настройке виртуального окружения')"
   ]
  },
  {
   "cell_type": "markdown",
   "id": "3999f8c9",
   "metadata": {},
   "source": [
    "## **Импорт библиотек и вспомогательные функции**"
   ]
  },
  {
   "cell_type": "code",
   "execution_count": null,
   "id": "22b580ed",
   "metadata": {},
   "outputs": [],
   "source": [
    "import warnings\n",
    "warnings.filterwarnings('ignore')"
   ]
  },
  {
   "cell_type": "code",
   "execution_count": null,
   "id": "9e573d53-e9e3-49e3-8cd3-383e707c2ff0",
   "metadata": {
    "executionInfo": {
     "elapsed": 2713,
     "status": "ok",
     "timestamp": 1745328051617,
     "user": {
      "displayName": "Ivan Komarov",
      "userId": "15572440089742707458"
     },
     "user_tz": -420
    },
    "id": "9e573d53-e9e3-49e3-8cd3-383e707c2ff0"
   },
   "outputs": [],
   "source": [
    "import pandas as pd\n",
    "import numpy as np\n",
    "\n",
    "import matplotlib.pyplot as plt\n",
    "import seaborn as sns\n",
    "\n",
    "from sklearn.tree import DecisionTreeClassifier\n",
    "from sklearn.ensemble import RandomForestClassifier, IsolationForest\n",
    "from sklearn.metrics import classification_report, roc_auc_score, confusion_matrix\n",
    "from sklearn.model_selection import train_test_split, RandomizedSearchCV\n",
    "from sklearn.datasets import make_circles\n",
    "from sklearn.preprocessing import OneHotEncoder\n",
    "\n",
    "import missingno as msno"
   ]
  },
  {
   "cell_type": "code",
   "execution_count": null,
   "id": "9619acce",
   "metadata": {},
   "outputs": [],
   "source": [
    "RANDOM_STATE = 42"
   ]
  },
  {
   "cell_type": "code",
   "execution_count": null,
   "id": "cbf4f783",
   "metadata": {},
   "outputs": [],
   "source": [
    "def display_decision_boundary(classifier, features, labels):\n",
    "    \"\"\"\n",
    "    Визуализирует границу решений классификатора на двумерных данных.\n",
    "\n",
    "    Аргументы:\n",
    "        classifier (callable): Функция или метод модели, принимающий таблицу с признаками и возвращающий предсказанные классы.\n",
    "        features (pandas.DataFrame): Двумерная таблица с признаками (только два признака), по которым строится визуализация.\n",
    "        labels (numpy.ndarray): Массив меток классов.\n",
    "    \"\"\"\n",
    "    x1_min, x1_max = features.iloc[:, 0].min() - 1, features.iloc[:, 0].max() + 1\n",
    "    x2_min, x2_max = features.iloc[:, 1].min() - 1, features.iloc[:, 1].max() + 1\n",
    "    x1x1, x2x2 = np.meshgrid(np.arange(x1_min, x1_max, 0.01), np.arange(x2_min, x2_max, 0.01))\n",
    "    decision = classifier(pd.DataFrame(np.c_[x1x1.ravel(), x2x2.ravel()], columns=features.columns)).reshape(x1x1.shape)\n",
    "    plt.contourf(x1x1, x2x2, decision, alpha=0.5)\n",
    "    plt.scatter(features.iloc[:, 0], features.iloc[:, 1], c=labels, edgecolors='k')\n",
    "    plt.show()"
   ]
  },
  {
   "cell_type": "markdown",
   "id": "f3f8915f",
   "metadata": {},
   "source": [
    "## **Практическая часть**"
   ]
  },
  {
   "cell_type": "markdown",
   "id": "33e29e65",
   "metadata": {},
   "source": [
    "### **Случайный лес**\n",
    "\n",
    "Случайный лес (random forest) — это ансамблевый алгоритм машинного обучения, суть которого состоит в объединении большого ансамбля некоррелированных решающих деревьев и объединении их предсказания. По отдельности каждое дерево ансамбля показывает невысокое качество классификации, но за счёт большого их большого числа в ансамбле объединённый результат получается более точным и устойчивым к выбросам.\n",
    "\n",
    "Случайный лес является реализацией алгоритма бэггинга (bootstrap aggregating).\n",
    "\n",
    "**Основные принципы:**\n",
    "\n",
    "* Бутстрэп сэмплинг (bootstrap sampling). Каждое дерево в ансамбле обучается на своей бутстрэп-подвыборке, которая формируется путём случайного выбора объектов (наблюдений) из обучающей выборки с возвращением (т.е. некоторые объекты могут повторяться несколько раз).\n",
    "\n",
    "* Случайный выбор признаков. Для уменьшения корреляции между деревьями при на каждом шаге построения дерева (при разделении узла) рассматривается случайное подмножество признаков фиксированной мощности (например, для классификации используется $m=\\sqrt{M}$, где $M$ — исходное количество признаков). Чем меньше случайное подмножество признаков, тем выше разнообразие деревьев и ниже их взаимная корреляция. \n",
    "\n",
    "* Агрегация предсказаний. Для классификации итоговый ответ определяется голосованием большинства деревьев (как правило, мода), для регрессии — усредненным предсказанием."
   ]
  },
  {
   "cell_type": "markdown",
   "id": "7f120e00",
   "metadata": {},
   "source": [
    "### ***Задание 1***\n",
    "\n",
    "Сгенерируйте набор данных с двумя классами и двумя признаками с помощью [make_circles](https://scikit-learn.org/stable/modules/generated/sklearn.datasets.make_circles.html) (см. код).\n",
    "\n",
    "На обучающей выборке обучите две модели:\n",
    "\n",
    "* `tree_circles`: DecisionTreeClassifier с неограниченной глубиной\n",
    "\n",
    "* `rf_circles`: RandomForestClassifier c 5 деревьями (n_estimators=5)\n",
    "\n",
    "На тестовой выборке постройте отчёты по метрикам классификации для моделей `tree` и `rf`."
   ]
  },
  {
   "cell_type": "code",
   "execution_count": null,
   "id": "6afdc31d",
   "metadata": {},
   "outputs": [],
   "source": [
    "# Сгенерируйте набор данных с двумя классами и двумя признаками с помощью make_circles\n",
    "\n",
    "X_circles, y_circles = make_circles(n_samples=1000, factor=0.1, noise=0.3, random_state=RANDOM_STATE)\n",
    "X_circles = pd.DataFrame(X_circles)\n",
    "X_circles.columns = ['x1', 'x2']"
   ]
  },
  {
   "cell_type": "code",
   "execution_count": null,
   "id": "3e734e56",
   "metadata": {},
   "outputs": [],
   "source": [
    "# Визуализируйте датасет\n",
    "\n",
    "plt.scatter(X_circles['x1'], X_circles['x2'], c=y_circles, edgecolors='k')\n",
    "plt.show()"
   ]
  },
  {
   "cell_type": "code",
   "execution_count": null,
   "id": "86849e80",
   "metadata": {},
   "outputs": [],
   "source": [
    "# Разделите датасет на обучающую (60%) и тестовую (40%) выборки со стратификацией по целевой переменной\n",
    "# Не забудьте зафиксировать RANDOM_STATE\n",
    "\n",
    "X_circles_train, X_circles_test, y_circles_train, y_circles_test = ..."
   ]
  },
  {
   "cell_type": "code",
   "execution_count": null,
   "id": "9f20e328",
   "metadata": {},
   "outputs": [],
   "source": [
    "# Обучите дерево tree_circles (DecisionTreeClassifier)\n",
    "# Не забудьте зафиксировать RANDOM_STATE\n",
    "\n",
    "tree_circles = ..."
   ]
  },
  {
   "cell_type": "code",
   "execution_count": null,
   "id": "fe6ba8a8",
   "metadata": {},
   "outputs": [],
   "source": [
    "# На тестовой выборке постройте отчёт по метрикам классификации для tree_circles\n",
    "\n",
    "print(classification_report(..., digits=4))"
   ]
  },
  {
   "cell_type": "code",
   "execution_count": null,
   "id": "88c20184",
   "metadata": {},
   "outputs": [],
   "source": [
    "# Визуализируйте границу решений классификатора tree_circles на обучающей выборке\n",
    "\n",
    "display_decision_boundary(tree_circles.predict, ...)"
   ]
  },
  {
   "cell_type": "code",
   "execution_count": null,
   "id": "0913eb1d",
   "metadata": {},
   "outputs": [],
   "source": [
    "# Визуализируйте границу решений классификатора tree_circles на тестовой выборке\n",
    "\n",
    "..."
   ]
  },
  {
   "cell_type": "code",
   "execution_count": null,
   "id": "938987e5",
   "metadata": {},
   "outputs": [],
   "source": [
    "# Обучите случайный лес rf_circles (RandomForestClassifier) с ограничением n_estimators=5\n",
    "# Не забудьте зафиксировать RANDOM_STATE\n",
    "\n",
    "rf_circles = ..."
   ]
  },
  {
   "cell_type": "code",
   "execution_count": null,
   "id": "246a18d2",
   "metadata": {},
   "outputs": [],
   "source": [
    "# На тестовой выборке постройте отчёт по метрикам классификации для rf_circles\n",
    "\n",
    "..."
   ]
  },
  {
   "cell_type": "code",
   "execution_count": null,
   "id": "4ce17739",
   "metadata": {},
   "outputs": [],
   "source": [
    "# Визуализируйте границу решений классификатора rf_circles на обучающей выборке\n",
    "\n",
    "..."
   ]
  },
  {
   "cell_type": "code",
   "execution_count": null,
   "id": "926e54e1",
   "metadata": {},
   "outputs": [],
   "source": [
    "# Визуализируйте границу решений классификатора rf_circles на тестовой выборке\n",
    "\n",
    "..."
   ]
  },
  {
   "cell_type": "markdown",
   "id": "85b926a9",
   "metadata": {},
   "source": [
    "### **Алгоритм построения случайного леса**\n",
    "\n",
    "Пусть $N$ — количество наблюдений (объектов) в обучающей выборке, $M$ — количество признаков, $m$ — неполное количество случайных признаков при обучении дерева, $k$ — количество деревьев в ансамбле.\n",
    "\n",
    "* Для каждого дерева решений из $k$ деревьев в ансамбле:\n",
    "\n",
    "    1. Генерируется бутстрэп-подвыборка путём случайного выбора $N$ объектов из обучающей выборки с возвращением (т.е. некоторые объекты могут повторяться несколько раз).\n",
    "\n",
    "    2. На бутстрэп-подвыборке обучается дерево решений, причём:\n",
    "\n",
    "        * При разбиении каждого узла дерева выбирается случайное подмножество признаков мощности $m$ (случайно выбирается $m$ из $M$ признаков).\n",
    "\n",
    "        * Лучшее разбиение узла определяется только среди выбранных $m$ признаков.\n",
    "\n",
    "        * Дерево строится до полного исчерпания бутстрэп-подвыборки и не подвергается процедуре прунинга."
   ]
  },
  {
   "cell_type": "markdown",
   "id": "84b7b4df",
   "metadata": {},
   "source": [
    "### **Датасет *Titanic Dataset***\n",
    "\n",
    "**Для решения заданий 2 — 4 рассмотрим датасет [Titanic Dataset](https://www.kaggle.com/datasets/yasserh/titanic-dataset).**\n",
    "\n",
    "Набор данных предназначен для предсказания шансов выживания пассажиров трагически затонувшего в 1912 году корабля \"Титаник\" на основе имеющейся информации о пассажирах.\n",
    "\n",
    "\n",
    "Одной из особенностей датасета является наличие **пропущенных значений**.\n",
    "\n",
    "Целевая переменная — Survived:\n",
    "\n",
    "* 1 — пассажир выжил (целевой класс).\n",
    "\n",
    "* 0 — пассажир погиб в катастрофе.\n",
    "\n",
    "Датасет содержит признаки:\n",
    "\n",
    "* PassengerId — уникальный идентификатор пассажира.\n",
    "\n",
    "* Pclass — класс билета (1, 2 или 3).\n",
    "\n",
    "* Name — имя пассажира.\n",
    "\n",
    "* Sex — пол пассажира.\n",
    "\n",
    "* Age — возраст пассажира.\n",
    "\n",
    "* SibSp — количество братьев, сестёр или супругов на борту.\n",
    "\n",
    "* Parch — количество родителей или детей на борту.\n",
    "\n",
    "* Ticket — номер билета.\n",
    "\n",
    "* Fare — стоимость билета.\n",
    "\n",
    "* Cabin — номер каюты.\n",
    "\n",
    "* Embarked — порт посадки (C = Cherbourg, Q = Queenstown, S = Southampton)."
   ]
  },
  {
   "cell_type": "markdown",
   "id": "61139d02-df23-4801-b4bc-95f344d72354",
   "metadata": {
    "id": "61139d02-df23-4801-b4bc-95f344d72354",
    "jp-MarkdownHeadingCollapsed": true
   },
   "source": [
    "### ***Задание 2***\n",
    "\n",
    "Выполните предобработку датасета (см. код).\n",
    "\n",
    "Используя обучающую выборку, сгенерируйте 5 бутстрэп-подвыброк ($k=5$), используя функцию [choice](https://numpy.org/doc/stable/reference/random/generated/numpy.random.choice.html) (путём случайного выбора индексов датасета `X_titanic_train` с повторениями).\n",
    "\n",
    "На каждой из сгенерированных подвыборок обучите дерево DecisionTreeClassifier с неограниченной глубиной и с параметрами:\n",
    "\n",
    "* **random_state=i**, где $i=0,...,4$ — индекс дерева (индекс подвыборки)\n",
    "\n",
    "* **max_features=5** — параметр, задающий максимальное число случайных признаков, которое рассматривается для наилучшего разбиения в каждом узле дерева.\n",
    "\n",
    "Используя обученные деревья решений, предскажите вероятности выживания пассажиров **в тестовой выборке** (запишите предсказанные вероятности в `titanic_trees_y_test_proba`) и посчитайте AUC для предсказания каждого из деревьев решений в отдельности.\n",
    "\n",
    "Рассчитайте среднее значение AUC, если прогноз на тестовой выборке осуществляется каждым деревом по отдельности.\n",
    "\n",
    "Рассматривая обученные деревья как ансамбль, постройте прогноз вероятностей для этого ансамбля (случайного леса) **на тестовой выборке** — **усредните (найдите среднее) значения вероятностей выживания**, предсказанные деревьями, входящими в ансамбль.\n",
    "\n",
    "Рассчитайте значение AUC для прогноза ансамбля (случайного леса) на тестовой выборке.\n",
    "\n",
    "Обучите модель случайного леса `rf_titanic_5` (RandomForestClassifier) c параметром n_estimators=5 (5 деревьев). \n",
    "\n",
    "Рассчитайте AUC модели `rf_titanic_5` на **тестовой выборке**.\n",
    "\n",
    "Сравните значения AUC модели `rf_titanic_5`, среднего AUC для деревьев и AUC ансамбля (случайного леса)."
   ]
  },
  {
   "cell_type": "code",
   "execution_count": null,
   "id": "6de0edb3-bc88-4435-a467-7ca94a302a28",
   "metadata": {
    "colab": {
     "base_uri": "https://localhost:8080/",
     "height": 504
    },
    "executionInfo": {
     "elapsed": 906,
     "status": "ok",
     "timestamp": 1745328382138,
     "user": {
      "displayName": "Ivan Komarov",
      "userId": "15572440089742707458"
     },
     "user_tz": -420
    },
    "id": "6de0edb3-bc88-4435-a467-7ca94a302a28",
    "outputId": "2f4d2d2d-947c-4213-8fcf-6e1abb8c4208"
   },
   "outputs": [],
   "source": [
    "# Считайте набор данных\n",
    "\n",
    "df_titanic = pd.read_csv('titanic.csv')\n",
    "df_titanic"
   ]
  },
  {
   "cell_type": "code",
   "execution_count": null,
   "id": "92ea46ba",
   "metadata": {},
   "outputs": [],
   "source": [
    "# Удалите колонки, не несущие существенной информации: PassengerId, Name, Ticket, Cabin\n",
    "\n",
    "df_titanic = df_titanic.drop(columns=['PassengerId', 'Name', 'Ticket', 'Cabin'])"
   ]
  },
  {
   "cell_type": "code",
   "execution_count": null,
   "id": "1f15d505",
   "metadata": {},
   "outputs": [],
   "source": [
    "# Убедитесь, что в датасете присутствуют пропуски в данных\n",
    "\n",
    "..."
   ]
  },
  {
   "cell_type": "code",
   "execution_count": null,
   "id": "1b7dc439",
   "metadata": {},
   "outputs": [],
   "source": [
    "# Посчитайте доли пропусков во всей выборке\n",
    "\n",
    "titanic_nan_info = pd.DataFrame({'NaN share': ...})\n",
    "titanic_nan_info = titanic_nan_info[titanic_nan_info['NaN share'] != 0.0]"
   ]
  },
  {
   "cell_type": "code",
   "execution_count": null,
   "id": "f56428a2",
   "metadata": {},
   "outputs": [],
   "source": [
    "# Выполните визуальный анализ пропущенных значений во всей выборке с помощью msno.bar\n",
    "\n",
    "..."
   ]
  },
  {
   "cell_type": "code",
   "execution_count": null,
   "id": "75022585",
   "metadata": {},
   "outputs": [],
   "source": [
    "# Выполните визуальный анализ пропущенных значений в обучающей выборке с помощью msno.matrix\n",
    "\n",
    "..."
   ]
  },
  {
   "cell_type": "code",
   "execution_count": null,
   "id": "1f23f085",
   "metadata": {},
   "outputs": [],
   "source": [
    "# Создайте список категориальных переменных (не включая целевую переменную)\n",
    "\n",
    "titanic_cat_feat = ['Pclass', 'Sex', 'Embarked']"
   ]
  },
  {
   "cell_type": "code",
   "execution_count": null,
   "id": "b365c882-47b3-43eb-9730-7e8301607221",
   "metadata": {
    "executionInfo": {
     "elapsed": 4,
     "status": "ok",
     "timestamp": 1745328405340,
     "user": {
      "displayName": "Ivan Komarov",
      "userId": "15572440089742707458"
     },
     "user_tz": -420
    },
    "id": "b365c882-47b3-43eb-9730-7e8301607221"
   },
   "outputs": [],
   "source": [
    "# Выделите объясняемый фактор в отдельную переменную\n",
    "\n",
    "X_titanic, y_titanic = ..."
   ]
  },
  {
   "cell_type": "code",
   "execution_count": null,
   "id": "94553988",
   "metadata": {},
   "outputs": [],
   "source": [
    "# Закодируйте категориальные признаки числами 0 и 1 с помощью OneHotEncoder\n",
    "\n",
    "titanic_encoder = OneHotEncoder(sparse_output=False, drop='first').set_output(transform='pandas')\n",
    "\n",
    "X_titanic_encoded = ...\n",
    "X_titanic = ..."
   ]
  },
  {
   "cell_type": "code",
   "execution_count": null,
   "id": "54fe14a1",
   "metadata": {},
   "outputs": [],
   "source": [
    "# Разделите датасет на обучающую (60%) и тестовую (40%) выборки со стратификацией по целевой переменной\n",
    "# Не забудьте зафиксировать RANDOM_STATE\n",
    "\n",
    "X_titanic_train, X_titanic_test, y_titanic_train, y_titanic_test = ..."
   ]
  },
  {
   "cell_type": "code",
   "execution_count": null,
   "id": "05d2bea2",
   "metadata": {},
   "outputs": [],
   "source": [
    "# Используя обучающую выборку, сгенерируйте 5 бутстрэп-подвыброк, используя функцию choice\n",
    "\n",
    "# Не забудьте зафиксировать RANDOM_STATE (с помощью переменной rng)\n",
    "rng = np.random.RandomState(RANDOM_STATE)\n",
    "\n",
    "k = 5 # Число деревьев в ансамбле (число бутстрэп-подвыброк)\n",
    "\n",
    "train_N = ... # Размер обучающей выборки\n",
    "\n",
    "train_idx = list(...) # Список с индексами наблюдений обучающей выборки\n",
    "\n",
    "# Выполните случайный выбор индексов train_idx с повторениями\n",
    "titanic_bootstraps = [rng.choice(..., size=..., replace=...) for _ in range(k)]"
   ]
  },
  {
   "cell_type": "code",
   "execution_count": null,
   "id": "173c1714",
   "metadata": {},
   "outputs": [],
   "source": [
    "# На каждой из бутстрэп-подвыборок обучите дерево DecisionTreeClassifier с неограниченной глубиной и с параметрами\n",
    "#   random_state=i\n",
    "#   max_features=5\n",
    "# Для каждого дерева используйте отдельную бутстрэп-подвыборку\n",
    "# После построения каждого дерева предскажите вероятности выживания пассажиров в тестовой выборке и посчитайте AUC\n",
    "\n",
    "titanic_trees_y_test_proba = [] # Список для записи векторов предсказаний деревьев\n",
    "titanic_trees_roc_auc = [] # Список для записи AUC деревьев\n",
    "\n",
    "for i in range(k):\n",
    "\n",
    "    X_titanic_fold_train = ...\n",
    "    y_titanic_fold_train = y_titanic_train[X_titanic_fold_train.index]\n",
    "\n",
    "    tree_titanic_fold = DecisionTreeClassifier(...).fit(...)\n",
    "\n",
    "    y_test_proba_tree_titanic_fold = ...\n",
    "    titanic_trees_y_test_proba.append(y_test_proba_tree_titanic_fold)\n",
    "\n",
    "    roc_auc_tree_titanic_fold = ...\n",
    "    titanic_trees_roc_auc.append(roc_auc_tree_titanic_fold)\n",
    "\n",
    "    print('AUC дерева {}: {:.4f}'.format(i, ...))\n",
    "\n",
    "titanic_trees_y_proba = np.array(titanic_trees_y_test_proba)"
   ]
  },
  {
   "cell_type": "code",
   "execution_count": null,
   "id": "d5caf472",
   "metadata": {},
   "outputs": [],
   "source": [
    "# Удостоверьтесь, что размерность массива titanic_trees_y_proba — (5, 357)\n",
    "\n",
    "titanic_trees_y_proba.shape"
   ]
  },
  {
   "cell_type": "code",
   "execution_count": null,
   "id": "a6fc8f5c",
   "metadata": {},
   "outputs": [],
   "source": [
    "# Рассчитайте среднее значение AUC, если прогноз на тестовой выборке осуществляется каждым деревом по отдельности\n",
    "\n",
    "..."
   ]
  },
  {
   "cell_type": "code",
   "execution_count": null,
   "id": "1b1142df",
   "metadata": {},
   "outputs": [],
   "source": [
    "# Посчитайте прогноз случайного леса как усреднённое значение вероятностей, предсказанных деревьями ансамбля\n",
    "\n",
    "y_test_proba_forest_titanic = ..."
   ]
  },
  {
   "cell_type": "code",
   "execution_count": null,
   "id": "883d55d9",
   "metadata": {},
   "outputs": [],
   "source": [
    "# Рассчитайте значение AUC для прогноза ансамбля (случайного леса) на тестовой выборке\n",
    "\n",
    "..."
   ]
  },
  {
   "cell_type": "code",
   "execution_count": null,
   "id": "ad6dc8d9",
   "metadata": {},
   "outputs": [],
   "source": [
    "# Обучите модель RandomForestClassifier c параметром n_estimators=5\n",
    "# Не забудьте зафиксировать RANDOM_STATE\n",
    "\n",
    "rf_titanic_5 = ..."
   ]
  },
  {
   "cell_type": "code",
   "execution_count": null,
   "id": "7efd4cab",
   "metadata": {},
   "outputs": [],
   "source": [
    "# Рассчитайте AUC модели rf_titanic_5 на тестовой выборке\n",
    "\n",
    "..."
   ]
  },
  {
   "cell_type": "markdown",
   "id": "5bd97890",
   "metadata": {},
   "source": [
    "### **RandomizedSearchCV**\n",
    "\n",
    "[RandomizedSearchCV](https://scikit-learn.org/stable/modules/generated/sklearn.model_selection.RandomizedSearchCV.html) — метод подбора оптимальных гиперпараметров модели, суть которого состоит в переборе случайных комбинаций значений параметров из заданных диапазонов или распределений вместо полного перебора всех возможных комбинаций (как это реализовано в GridSearchCV).\n",
    "\n",
    "**RandomizedSearchCV и GridSearchCV**:\n",
    "\n",
    "* **RandomizedSearchCV** выбирает комбинации случайно. Это снижает вычислительные затраты и позволяет находить приемлемые (иногда лучшие) гиперпараметры при меньших вычислительных затратах. **Параметр n_iter** указывает число случайных комбинаций гиперпараметров, которые будут протестированы в процессе подбора.\n",
    "\n",
    "* **GridSearchCV** перебирает все комбинации значений гиперпараметров. Это гарантирует нахождение результата внутри сетки, но требует много времени, особенно при большом числе параметров или возможных значений.\n",
    "\n",
    "Подробнее можно изучить по **ссылке:**\n",
    "\n",
    "* [Рандомизированная оптимизация параметров | scikit-learn.ru](https://scikit-learn.ru/stable/modules/grid_search.html#randomized-parameter-search)"
   ]
  },
  {
   "cell_type": "markdown",
   "id": "405a26a9",
   "metadata": {},
   "source": [
    "### ***Задание 3***\n",
    "\n",
    "**ВНИМАНИЕ:** Для решения этого задания используйте:\n",
    "\n",
    "* Обучающую и тестовую выборку из задания 2: `X_titanic_train`, `X_titanic_test`, `y_titanic_train`, `y_titanic_test`.\n",
    "\n",
    "На обучающей выборке обучите две модели, предварительно подобрав оптимальные значения гиперпараметров обучения **с помощью RandomizedSearchCV** (n_iter=50 — 50 итераций):\n",
    "\n",
    "* `tree_titanic` — дерево DecisionTreeClassifier.\n",
    "\n",
    "* `rf_titanic` — случайный лес RandomForestClassifier.\n",
    "\n",
    "Выведите оптимальные гиперпараметры обучения моделей `tree_titanic` и `rf_titanic` и номера итераций, на которых были достигнуты оптимальные комбинации параметров в рамках подбора с помощью RandomizedSearchCV.\n",
    "\n",
    "Для моделей `tree_titanic` и `rf_titanic` **на тестовой выборке** постройте отчёт по метрикам классификации и рассчитайте значения AUC."
   ]
  },
  {
   "cell_type": "code",
   "execution_count": null,
   "id": "7cabe275",
   "metadata": {},
   "outputs": [],
   "source": [
    "# Обучите модель tree_titanic с оптимальными гиперпараметрами\n",
    "# Оптимальные гиперпараметры обучения подберите с помощью RandomizedSearchCV\n",
    "# Не забудьте зафиксировать RANDOM_STATE\n",
    "\n",
    "params = {\n",
    "    'max_depth': range(5, 15),\n",
    "    'min_samples_split': range(2, 10),\n",
    "    'min_samples_leaf': range(2, 10),\n",
    "}\n",
    "n_iter = 50\n",
    "scoring = 'roc_auc'\n",
    "cv = 5\n",
    "\n",
    "cv_tree_titanic = RandomizedSearchCV(\n",
    "    estimator=...,\n",
    "    param_distributions=...,\n",
    "    n_iter=...,\n",
    "    scoring=...,\n",
    "    cv=...,\n",
    "    random_state=RANDOM_STATE\n",
    ").fit(...)\n",
    "\n",
    "tree_titanic = ..."
   ]
  },
  {
   "cell_type": "code",
   "execution_count": null,
   "id": "ad0c644a",
   "metadata": {},
   "outputs": [],
   "source": [
    "# Выведите оптимальные гиперпараметры обучения tree_titanic и номер итерации, на котором они были достигнуты\n",
    "\n",
    "print(f'Оптимальные параметры DecisionTreeClassifier на итерации {...}: {...}')"
   ]
  },
  {
   "cell_type": "code",
   "execution_count": null,
   "id": "a2407e66",
   "metadata": {},
   "outputs": [],
   "source": [
    "# Постройте отчёт по метрикам классификации для модели tree_titanic на тестовой выборке\n",
    "\n",
    "..."
   ]
  },
  {
   "cell_type": "code",
   "execution_count": null,
   "id": "365de63c",
   "metadata": {},
   "outputs": [],
   "source": [
    "# Рассчитайте значение метрики AUC для модели tree_titanic на тестовой выборке\n",
    "\n",
    "..."
   ]
  },
  {
   "cell_type": "code",
   "execution_count": null,
   "id": "90db1f1f",
   "metadata": {},
   "outputs": [],
   "source": [
    "# Обучите модель rf_titanic с оптимальными гиперпараметрами\n",
    "# Оптимальные гиперпараметры обучения подберите с помощью RandomizedSearchCV\n",
    "# Не забудьте зафиксировать RANDOM_STATE\n",
    "\n",
    "params = {\n",
    "    'n_estimators': range(5, 200),\n",
    "    'min_samples_split': range(2, 10),\n",
    "    'min_samples_leaf': range(2, 10),\n",
    "}\n",
    "n_iter = 50\n",
    "scoring = 'roc_auc'\n",
    "cv = 5\n",
    "\n",
    "cv_rf_titanic = RandomizedSearchCV(\n",
    "    estimator=...,\n",
    "    param_distributions=...,\n",
    "    n_iter=...,\n",
    "    scoring=...,\n",
    "    cv=...,\n",
    "    random_state=RANDOM_STATE\n",
    ").fit(...)\n",
    "\n",
    "rf_titanic = ..."
   ]
  },
  {
   "cell_type": "code",
   "execution_count": null,
   "id": "1d3432ff",
   "metadata": {},
   "outputs": [],
   "source": [
    "# Выведите оптимальные гиперпараметры обучения rf_titanic и номер итерации, на котором они были достигнуты\n",
    "\n",
    "..."
   ]
  },
  {
   "cell_type": "code",
   "execution_count": null,
   "id": "cf2289a9",
   "metadata": {},
   "outputs": [],
   "source": [
    "# Постройте отчёт по метрикам классификации для модели rf_titanic на тестовой выборке\n",
    "\n",
    "..."
   ]
  },
  {
   "cell_type": "code",
   "execution_count": null,
   "id": "b9514c73",
   "metadata": {},
   "outputs": [],
   "source": [
    "# Рассчитайте значение метрики AUC для модели rf_titanic на тестовой выборке\n",
    "\n",
    "..."
   ]
  },
  {
   "cell_type": "markdown",
   "id": "64798cf4",
   "metadata": {},
   "source": [
    "### **Isolation Forest**\n",
    "\n",
    "Isolation Forest — это алгоритм машинного обучения без учителя (unsupervised machine learning), предназначенный для обнаружения аномалий. В отличие от методов, основанных на расстояниях или плотностях, Isolation Forest **использует ансамбль решающих деревьев** для изоляции аномальных точек. Ключевая идея этого алгоритма состоит в том, что аномальные наблюдения можно \"изолировать\" за меньшее число шагов, чем \"обычные\" данные, поскольку аномальные наблюдения встречаются редко и имеют необычные значения признаков.\n",
    "\n",
    "Для определения аномальных значений в Isolation Forest используется **оценка аномальности**:\n",
    "\n",
    "$$s(x,n)=2^{-\\frac{\\mathbb{E}(h(x))}{c(x)}}$$\n",
    "\n",
    "где $\\mathbb{E}(h(x))$ — средняя глубина (число шагов до изоляции наблюдения) по всем деревьям, $c(x)$ — нормирующая константа (зависит от размера данных).\n",
    "\n",
    "Подробнее можно изучить по **ссылке:**\n",
    "\n",
    "* [How to perform anomaly detection with the Isolation Forest algorithm | towardsdatascience.com](https://towardsdatascience.com/how-to-perform-anomaly-detection-with-the-isolation-forest-algorithm-e8c8372520bc/)"
   ]
  },
  {
   "cell_type": "markdown",
   "id": "4bb2aad9",
   "metadata": {},
   "source": [
    "### **Датасет *Credit Card Fraud Detection***\n",
    "\n",
    "**Для решения задания 4 рассмотрим датасет [Credit Card Fraud Detection](https://www.kaggle.com/datasets/mlg-ulb/creditcardfraud).**\n",
    "\n",
    "Датасет предназначен для обнаружения мошеннических операций (фрод-операций) с кредитными картами. В нем собраны данные по транзакциям, совершенным европейскими владельцами карт за два дня в сентябре 2013 года. Данные о транзакциях представлены в виде числовых переменных, полученных в результате преобразования методом главных компонент (PCA). \n",
    "\n",
    "Целевая переменная — Class (метка мошеннической операции):\n",
    "\n",
    "* 1 — фрод-транзакция (аномальное значение).\n",
    "\n",
    "* 0 — транзакция не является мошеннической.\n",
    "\n",
    "Датасет характеризуется сильным дисбалансом классов (мошенничество — очень редкое событие): среди 284807 транзакций было выявлено 492 фрод-операций (0.172% от всех транзакций). "
   ]
  },
  {
   "cell_type": "markdown",
   "id": "3d70f3b3-5273-475a-b49d-d0df0767da6b",
   "metadata": {
    "id": "3d70f3b3-5273-475a-b49d-d0df0767da6b",
    "jp-MarkdownHeadingCollapsed": true
   },
   "source": [
    "### ***Задание 4***\n",
    "\n",
    "Обучите модель `if_fraud` (IsolationForest) **на всей выборке** c 500 деревьями в ансамбле и определите аномальные наблюдения в выборке.\n",
    "\n",
    "Рассматривая задачу как задачу классификации, где **аномальное значение соответствует случаю мошенничества (Class = 1)**, на всей выборке для модели `if_fraud` постройте матрицу ошибок и отчёт по метрикам классификации. Рассчитайте долю мошеннических транзакций, которую смогла выявить модель.\n",
    "\n",
    "**ВНИМАНИЕ:** Поскольку алгоритм Isolation Forest относится к классу задач машинного обучения без учителя, при обучении модели метки классов (вектор истинных значений объясняемой переменной) не используются. Метки классов нужны в рамках данной задачи с целью оценки того, насколько точно модель Isolation Forest смогла выявить мошеннические операции среди всех транзакций.\n",
    "\n",
    "*Важным параметром в модели IsolationForest является параметр contamination. Он определяет **ожидаемую долю аномалий в данных**, то есть то, сколько процентов объектов модель должна считать \"аномальными\" после обучения. В рамках данного задания рассматривается стандартное значение contamination.*"
   ]
  },
  {
   "cell_type": "code",
   "execution_count": null,
   "id": "19f742fe",
   "metadata": {},
   "outputs": [],
   "source": [
    "# Считайте набор данных\n",
    "\n",
    "df_fraud = pd.read_csv('creditcard.csv')\n",
    "df_fraud"
   ]
  },
  {
   "cell_type": "code",
   "execution_count": null,
   "id": "31a253ed",
   "metadata": {},
   "outputs": [],
   "source": [
    "# Выделите объясняемый фактор в отдельную переменную\n",
    "\n",
    "X_fraud, y_fraud = ..."
   ]
  },
  {
   "cell_type": "code",
   "execution_count": null,
   "id": "806ff3d1-4f2f-432f-a107-ae039e39e601",
   "metadata": {
    "executionInfo": {
     "elapsed": 120,
     "status": "ok",
     "timestamp": 1745328506158,
     "user": {
      "displayName": "Ivan Komarov",
      "userId": "15572440089742707458"
     },
     "user_tz": -420
    },
    "id": "806ff3d1-4f2f-432f-a107-ae039e39e601"
   },
   "outputs": [],
   "source": [
    "# Обучите модель if_fraud с 500 деревьями в ансамбле\n",
    "# Метки классов y_fraud не используются при обучении\n",
    "# Не забудьте зафиксировать RANDOM_STATE\n",
    "\n",
    "if_fraud = ..."
   ]
  },
  {
   "cell_type": "code",
   "execution_count": null,
   "id": "e4472938",
   "metadata": {},
   "outputs": [],
   "source": [
    "# С помощью модели if_fraud определите аномальные наблюдения\n",
    "#   1 — не аномальное наблюдение\n",
    "#   -1 — аномальное наблюдение\n",
    "\n",
    "pred_if_fraud = ...\n",
    "np.unique(pred_if_fraud, return_counts=True)"
   ]
  },
  {
   "cell_type": "code",
   "execution_count": null,
   "id": "51bda774",
   "metadata": {},
   "outputs": [],
   "source": [
    "# Перейдите от прогноза аномальных наблюдений к целевой переменной:\n",
    "#   1 (не аномальное наблюдение) —> 0 (обычная транзакция)\n",
    "#   -1 (аномальное наблюдение) —> 1 (мошенническая транзакция)\n",
    "\n",
    "y_pred_if_fraud = ..."
   ]
  },
  {
   "cell_type": "code",
   "execution_count": null,
   "id": "acecd7e6",
   "metadata": {},
   "outputs": [],
   "source": [
    "# Постройте матрицу ошибок\n",
    "\n",
    "cf_matrix = ...\n",
    "plt.figure(figsize=(6, 4))\n",
    "ax = sns.heatmap(cf_matrix, annot=True, cmap='Blues', fmt='g')\n",
    "ax.set_title('Confusion Matrix\\n')\n",
    "ax.set_xlabel('Predicted label')\n",
    "ax.set_ylabel('True label')\n",
    "plt.show()"
   ]
  },
  {
   "cell_type": "code",
   "execution_count": null,
   "id": "023ba264",
   "metadata": {},
   "outputs": [],
   "source": [
    "# Постройте отчёт по метрикам классификации\n",
    "\n",
    "..."
   ]
  },
  {
   "cell_type": "code",
   "execution_count": null,
   "id": "9f364da7",
   "metadata": {},
   "outputs": [],
   "source": [
    "# Рассчитайте долю мошеннических транзакций, которую смогла выявить модель.\n",
    "\n",
    "..."
   ]
  }
 ],
 "metadata": {
  "colab": {
   "provenance": []
  },
  "kernelspec": {
   "display_name": "ml-course",
   "language": "python",
   "name": "python3"
  },
  "language_info": {
   "codemirror_mode": {
    "name": "ipython",
    "version": 3
   },
   "file_extension": ".py",
   "mimetype": "text/x-python",
   "name": "python",
   "nbconvert_exporter": "python",
   "pygments_lexer": "ipython3",
   "version": "3.11.11"
  }
 },
 "nbformat": 4,
 "nbformat_minor": 5
}
